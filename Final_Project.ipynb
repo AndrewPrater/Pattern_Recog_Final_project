{
 "cells": [
  {
   "cell_type": "markdown",
   "id": "137752ad-f61b-4a0e-a76b-5564a97724d7",
   "metadata": {},
   "source": [
    "# Final Project"
   ]
  },
  {
   "cell_type": "code",
   "execution_count": null,
   "id": "a301ac2c-34b6-4e49-9d37-14ee14a3c58a",
   "metadata": {},
   "outputs": [],
   "source": []
  },
  {
   "cell_type": "markdown",
   "id": "ed417282-86ae-47e0-bf8d-8e1af9fe3aa8",
   "metadata": {},
   "source": [
    "## Loading Data"
   ]
  },
  {
   "cell_type": "code",
   "execution_count": null,
   "id": "ffd6753a-5838-4704-b0f9-fdfec2f155fc",
   "metadata": {},
   "outputs": [],
   "source": [
    "#Dataset has a training and test folder\n",
    "#Training Folder has folders inside organized by bird species, these have the bird images inside them\n",
    "#From These Folders we need format the data into a singular set X_train with string labels t_train, with names derived from folder names\n",
    "#Creating Training data X_train, train_labels\n",
    "i=0\n",
    "for root, dirs, files in os.walk(train_folder):\n",
    "    #Bird class name, based on Sub-Directory names\n",
    "    string1 = root\n",
    "    string2 = train_folder\n",
    "    if string2 in string1:\n",
    "        bird_name=string1.replace(string2,'')\n",
    "        \n",
    "    print(bird_name) #Training Label\n",
    "    for file in files:\n",
    "        file_path = os.path.join(root, file)\n",
    "        # Do something with the file, e.g., print the path\n",
    "        #print(file_path)\n",
    "        #print(root)\n",
    "        #print(dirs)\n",
    "        #print(file)\n",
    "        y=np.array(Image.open(file_path).convert('RGB').convert('L').resize((200,200))) #reformat images to 200x200 gray scale image\n",
    "        #print(file) #file is added to X_train\n",
    "\n",
    "        #resize to 10,000x1 shape\n",
    "        col_y=y.ravel()[:,np.newaxis]\n",
    "\n",
    "        #save to X train\n",
    "        if i==0:\n",
    "            X_train=col_y\n",
    "        else:\n",
    "            X_train=np.hstack((X_train,col_y))\n",
    "            \n",
    "        train_labels=np.hstack((train_labels,bird_name))\n",
    "        i=i+1"
   ]
  },
  {
   "cell_type": "code",
   "execution_count": null,
   "id": "76a4fe6c-951f-4950-b23a-6dbc094200cb",
   "metadata": {},
   "outputs": [],
   "source": [
    "#Creating Training data X_train, train_labels\n",
    "i=0\n",
    "for root, dirs, files in os.walk(train_folder):\n",
    "    #Bird class name, based on Sub-Directory names\n",
    "    string1 = root\n",
    "    string2 = train_folder\n",
    "    if string2 in string1:\n",
    "        bird_name=string1.replace(string2,'')\n",
    "        \n",
    "    print(bird_name) #Training Label\n",
    "    for file in files:\n",
    "        file_path = os.path.join(root, file)\n",
    "        # Do something with the file, e.g., print the path\n",
    "        #print(file_path)\n",
    "        #print(root)\n",
    "        #print(dirs)\n",
    "        #print(file)\n",
    "        y=np.array(Image.open(file_path).convert('RGB').convert('L').resize((200,200))) #reformat images to 200x200 gray scale image\n",
    "        #print(file) #file is added to X_train\n",
    "\n",
    "        #resize to 10,000x1 shape\n",
    "        col_y=y.ravel()[:,np.newaxis]\n",
    "\n",
    "        #save to X train\n",
    "        if i==0:\n",
    "            X_train=col_y\n",
    "        else:\n",
    "            X_train=np.hstack((X_train,col_y))\n",
    "            \n",
    "        train_labels=np.hstack((train_labels,bird_name))\n",
    "        i=i+1"
   ]
  },
  {
   "cell_type": "markdown",
   "id": "2d961e17-0e66-4f1d-b665-fea3fddc71bf",
   "metadata": {},
   "source": [
    "## Pre-Processing"
   ]
  },
  {
   "cell_type": "code",
   "execution_count": null,
   "id": "d9ae287c-35a6-4208-96c3-fa3d70c4aec2",
   "metadata": {},
   "outputs": [],
   "source": []
  },
  {
   "cell_type": "markdown",
   "id": "b26b5b32-a926-46b3-a696-bb9e922156ac",
   "metadata": {},
   "source": [
    "## CNN Feature Extraction"
   ]
  },
  {
   "cell_type": "code",
   "execution_count": null,
   "id": "e9e41ddd-0095-4e08-be2b-14dfe6d5ab18",
   "metadata": {},
   "outputs": [],
   "source": [
    "import numpy as np\n",
    "import tensorflow as tf\n",
    "from tensorflow import keras\n",
    "\n",
    "\n",
    "#CNN layers\n",
    "model = keras.models.Sequential([\n",
    "    keras.layers.Input(shape=(?,?,3)),\n",
    "    keras.layers.Conv2D(16,7,activation='relu',padding='same'),\n",
    "    keras.layers.MaxPooling2D(2),\n",
    "    keras.layers.Conv2D(32,3,activation='relu',padding=same),\n",
    "    keras.layers.MaxPooling2D(2),\n",
    "    keras.layers.Flatten(),\n",
    "    keras.layers.Dense(32, activation='relu',kernel_initalizer='he_normal', kernel_regularizer=keras.regularizers.l2(0.01)),\n",
    "    keras.layers.Dense(200, activation='softmax')\n",
    "])\n",
    "\n",
    "#Run CNN model\n",
    "model.compile(loss=keras.losses.SparseCategoriclCrossentropy(),\n",
    "              optimizer='nadam',\n",
    "              metrics=['accuracy'])\n",
    "\n",
    "#Fitting model to our training data\n",
    "model.fit(X_train_images, t_train, epochs=60, batch_size=32,\n",
    "          validation_data=(X_test_images,t_test),\n",
    "          callbacks=[keras.callbacks.EarlyStopping(patience=10)\n",
    "])\n",
    "\n",
    "#Extract Feature Vector from CNN"
   ]
  },
  {
   "cell_type": "markdown",
   "id": "808d92f7-08cb-4dde-a267-d8bba96deced",
   "metadata": {},
   "source": [
    "## SVM For Classificatioin"
   ]
  },
  {
   "cell_type": "code",
   "execution_count": null,
   "id": "629f8900-260b-4826-912f-002e9e99e0af",
   "metadata": {},
   "outputs": [],
   "source": [
    "from sklearn.svm import SVC\n",
    "\n",
    "model= Pipeline(steps=[('scaler', StandardScaler()),\n",
    "                       ('SVC', SVC())])"
   ]
  },
  {
   "cell_type": "markdown",
   "id": "11ddde3c-00a4-4242-bb56-c1ac94c574b6",
   "metadata": {},
   "source": [
    "## Results"
   ]
  },
  {
   "cell_type": "code",
   "execution_count": null,
   "id": "ce6b4e4f-ffa1-4261-a7c7-7e962e98181d",
   "metadata": {},
   "outputs": [],
   "source": []
  },
  {
   "cell_type": "code",
   "execution_count": null,
   "id": "ee5fd889-fc2d-4415-806c-7cf393a82dd0",
   "metadata": {},
   "outputs": [],
   "source": []
  }
 ],
 "metadata": {
  "kernelspec": {
   "display_name": "Python 3 (ipykernel)",
   "language": "python",
   "name": "python3"
  },
  "language_info": {
   "codemirror_mode": {
    "name": "ipython",
    "version": 3
   },
   "file_extension": ".py",
   "mimetype": "text/x-python",
   "name": "python",
   "nbconvert_exporter": "python",
   "pygments_lexer": "ipython3",
   "version": "3.12.4"
  }
 },
 "nbformat": 4,
 "nbformat_minor": 5
}
